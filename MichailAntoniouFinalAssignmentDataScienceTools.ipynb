{
  "metadata": {
    "language_info": {
      "codemirror_mode": {
        "name": "python",
        "version": 3
      },
      "file_extension": ".py",
      "mimetype": "text/x-python",
      "name": "python",
      "nbconvert_exporter": "python",
      "pygments_lexer": "ipython3",
      "version": "3.8"
    },
    "kernelspec": {
      "name": "python",
      "display_name": "Python (Pyodide)",
      "language": "python"
    }
  },
  "nbformat_minor": 4,
  "nbformat": 4,
  "cells": [
    {
      "cell_type": "markdown",
      "source": "Tools for Data Science Final Assignment",
      "metadata": {}
    },
    {
      "cell_type": "markdown",
      "source": "Introduction on the Assignement Queries",
      "metadata": {}
    },
    {
      "cell_type": "markdown",
      "source": "Some fo the Languages used in Data Science are the following:\n    Python\n    R\n    Julia\n    Visual Basic",
      "metadata": {}
    },
    {
      "cell_type": "markdown",
      "source": "Here we have some of the most common libraries used for Python and R in Data Science:\n    Data Science Libraries for Python\n        pandas\n        numpy\n        matplotlib\n        seaborn\n        tensorflow\n        \n    Data Science Libraries for R\n        ggplot\n        dplyr\n        stringr\n        caret",
      "metadata": {}
    },
    {
      "cell_type": "markdown",
      "source": "Arithmetic Expression Examples",
      "metadata": {}
    },
    {
      "cell_type": "code",
      "source": "(994+2)*2",
      "metadata": {
        "trusted": true
      },
      "execution_count": 1,
      "outputs": [
        {
          "execution_count": 1,
          "output_type": "execute_result",
          "data": {
            "text/plain": "1992"
          },
          "metadata": {}
        }
      ]
    },
    {
      "cell_type": "markdown",
      "source": "Conversion of Minutes to Hours",
      "metadata": {}
    },
    {
      "cell_type": "code",
      "source": "minutes=200\nhours=minutes/ 60\nprint('According to the minutes provided these are the respective hours: '+str(hours))",
      "metadata": {
        "trusted": true
      },
      "execution_count": 14,
      "outputs": [
        {
          "name": "stdout",
          "text": "According to the minutes provided these are the respective hours: 3.3333333333333335\n",
          "output_type": "stream"
        }
      ]
    },
    {
      "cell_type": "markdown",
      "source": "Objectives",
      "metadata": {}
    },
    {
      "cell_type": "markdown",
      "source": "Antoniou Michail",
      "metadata": {}
    }
  ]
}